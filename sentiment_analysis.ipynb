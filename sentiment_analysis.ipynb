{
  "nbformat": 4,
  "nbformat_minor": 0,
  "metadata": {
    "colab": {
      "name": "sentiment analysis",
      "provenance": []
    },
    "kernelspec": {
      "name": "python3",
      "display_name": "Python 3"
    }
  },
  "cells": [
    {
      "cell_type": "code",
      "metadata": {
        "id": "X5Bg9RexdeH-"
      },
      "source": [
        "pip install flair"
      ],
      "execution_count": null,
      "outputs": []
    },
    {
      "cell_type": "code",
      "metadata": {
        "id": "cHRniGxRil20"
      },
      "source": [
        "from datetime import datetime\n",
        "import requests\n",
        "import pandas as pd\n",
        "import seaborn as sns"
      ],
      "execution_count": 2,
      "outputs": []
    },
    {
      "cell_type": "code",
      "metadata": {
        "id": "J5k-ZDIU4VKm"
      },
      "source": [
        "BEARER_TOKEN = 'AAAAAAAAAAAAAAAAAAAAALxdMQEAAAAAQLauISsmwNTTuOUiyjIY9Snq0JE%3DAM4UuquXRQvENnoZ6MCtSuAZws71IOWzApcPa1kWYInJwsQEJP'"
      ],
      "execution_count": 3,
      "outputs": []
    },
    {
      "cell_type": "code",
      "metadata": {
        "id": "03b4MOaFuXkK"
      },
      "source": [
        "params = {'q': 'GME',\n",
        "            'tweet_mode': 'extended','lang': 'en',\n",
        "            'count': '500'}\n",
        "response=requests.get('https://api.twitter.com/1.1/search/tweets.json',params=params,\n",
        "                        headers={'authorization': 'Bearer '+BEARER_TOKEN})"
      ],
      "execution_count": 4,
      "outputs": []
    },
    {
      "cell_type": "code",
      "metadata": {
        "id": "yk3is3rb4pn2"
      },
      "source": [
        "print(response.json())"
      ],
      "execution_count": null,
      "outputs": []
    },
    {
      "cell_type": "code",
      "metadata": {
        "id": "tseVIzHC8zvj"
      },
      "source": [
        "def get_data(tweet):\n",
        "  data = {\n",
        "      'id': tweet['id_str'],\n",
        "      'created_at': tweet['created_at'],\n",
        "      'text': tweet['full_text']\n",
        "  }\n",
        "  return data"
      ],
      "execution_count": 17,
      "outputs": []
    },
    {
      "cell_type": "code",
      "metadata": {
        "id": "r6n5Mazx7HZD"
      },
      "source": [
        "df = pd.DataFrame()\n",
        "for tweet in response.json()['statuses']:\n",
        "  row = get_data(tweet)\n",
        "  df = df.append(row, ignore_index=True)"
      ],
      "execution_count": 18,
      "outputs": []
    },
    {
      "cell_type": "code",
      "metadata": {
        "id": "frDNuxRFea7A"
      },
      "source": [
        "tweets = df['text']\n",
        "txts = tweets.to_list()"
      ],
      "execution_count": 19,
      "outputs": []
    },
    {
      "cell_type": "code",
      "metadata": {
        "id": "LaJzbwaIPsAt"
      },
      "source": [
        "import flair\n",
        "sentiment_model = flair.models.TextClassifier.load('en-sentiment')"
      ],
      "execution_count": null,
      "outputs": []
    },
    {
      "cell_type": "code",
      "metadata": {
        "id": "Ap6XKwKrQGmx"
      },
      "source": [
        "values = []\n",
        "confidence = []\n",
        "for txt in txts:\n",
        "  sentence = flair.data.Sentence(txt)\n",
        "  sentiment_model.predict(sentence)\n",
        "  v = sentence.labels[0].to_dict()['value']\n",
        "  c = sentence.labels[0].to_dict()['confidence']\n",
        "  values.append(v)\n",
        "  confidence.append(c)"
      ],
      "execution_count": 21,
      "outputs": []
    },
    {
      "cell_type": "code",
      "metadata": {
        "id": "gxsnPOop6Gs1"
      },
      "source": [
        "df['values'] = values\n",
        "df['confidence'] = confidence"
      ],
      "execution_count": 22,
      "outputs": []
    },
    {
      "cell_type": "code",
      "metadata": {
        "id": "oyOc_2UH77Gp"
      },
      "source": [
        "df"
      ],
      "execution_count": null,
      "outputs": []
    },
    {
      "cell_type": "code",
      "metadata": {
        "colab": {
          "base_uri": "https://localhost:8080/",
          "height": 142
        },
        "id": "15hPdem4KO3I",
        "outputId": "31a7b8b4-e632-4806-dbf1-77633c691bfa"
      },
      "source": [
        "df.groupby(by='values').agg('count')"
      ],
      "execution_count": 24,
      "outputs": [
        {
          "output_type": "execute_result",
          "data": {
            "text/html": [
              "<div>\n",
              "<style scoped>\n",
              "    .dataframe tbody tr th:only-of-type {\n",
              "        vertical-align: middle;\n",
              "    }\n",
              "\n",
              "    .dataframe tbody tr th {\n",
              "        vertical-align: top;\n",
              "    }\n",
              "\n",
              "    .dataframe thead th {\n",
              "        text-align: right;\n",
              "    }\n",
              "</style>\n",
              "<table border=\"1\" class=\"dataframe\">\n",
              "  <thead>\n",
              "    <tr style=\"text-align: right;\">\n",
              "      <th></th>\n",
              "      <th>created_at</th>\n",
              "      <th>id</th>\n",
              "      <th>text</th>\n",
              "      <th>confidence</th>\n",
              "    </tr>\n",
              "    <tr>\n",
              "      <th>values</th>\n",
              "      <th></th>\n",
              "      <th></th>\n",
              "      <th></th>\n",
              "      <th></th>\n",
              "    </tr>\n",
              "  </thead>\n",
              "  <tbody>\n",
              "    <tr>\n",
              "      <th>NEGATIVE</th>\n",
              "      <td>60</td>\n",
              "      <td>60</td>\n",
              "      <td>60</td>\n",
              "      <td>60</td>\n",
              "    </tr>\n",
              "    <tr>\n",
              "      <th>POSITIVE</th>\n",
              "      <td>40</td>\n",
              "      <td>40</td>\n",
              "      <td>40</td>\n",
              "      <td>40</td>\n",
              "    </tr>\n",
              "  </tbody>\n",
              "</table>\n",
              "</div>"
            ],
            "text/plain": [
              "          created_at  id  text  confidence\n",
              "values                                    \n",
              "NEGATIVE          60  60    60          60\n",
              "POSITIVE          40  40    40          40"
            ]
          },
          "metadata": {},
          "execution_count": 24
        }
      ]
    },
    {
      "cell_type": "code",
      "metadata": {
        "colab": {
          "base_uri": "https://localhost:8080/",
          "height": 386
        },
        "id": "IIxiTB3NAzlM",
        "outputId": "2516dc63-1c99-475c-976c-2681ae271106"
      },
      "source": [
        "sns.displot(df,x='values', hue='values' )"
      ],
      "execution_count": 25,
      "outputs": [
        {
          "output_type": "execute_result",
          "data": {
            "text/plain": [
              "<seaborn.axisgrid.FacetGrid at 0x7fc09cfebbd0>"
            ]
          },
          "metadata": {},
          "execution_count": 25
        },
        {
          "output_type": "display_data",
          "data": {
            "image/png": "[encoded data removed]",
            "text/plain": [
              "<Figure size 445.625x360 with 1 Axes>"
            ]
          },
          "metadata": {
            "needs_background": "light"
          }
        }
      ]
    }
  ]
}