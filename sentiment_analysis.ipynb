{
  "nbformat": 4,
  "nbformat_minor": 0,
  "metadata": {
    "colab": {
      "name": "sentiment analysis",
      "provenance": []
    },
    "kernelspec": {
      "name": "python3",
      "display_name": "Python 3"
    }
  },
  "cells": [
    {
      "cell_type": "code",
      "metadata": {
        "id": "X5Bg9RexdeH-"
      },
      "source": [
        "pip install flair"
      ],
      "execution_count": null,
      "outputs": []
    },
    {
      "cell_type": "code",
      "metadata": {
        "id": "cHRniGxRil20"
      },
      "source": [
        "from datetime import datetime\n",
        "import requests\n",
        "import pandas as pd\n",
        "import seaborn as sns"
      ],
      "execution_count": null,
      "outputs": []
    },
    {
      "cell_type": "code",
      "metadata": {
        "id": "J5k-ZDIU4VKm"
      },
      "source": [
        "BEARER_TOKEN = 'AAAAAAAAAAAAAAAAAAAAALxdMQEAAAAAQLauISsmwNTTuOUiyjIY9Snq0JE%3DAM4UuquXRQvENnoZ6MCtSuAZws71IOWzApcPa1kWYInJwsQEJP'"
      ],
      "execution_count": null,
      "outputs": []
    },
    {
      "cell_type": "code",
      "metadata": {
        "id": "03b4MOaFuXkK"
      },
      "source": [
        "params = {'q': 'tesla',\n",
        "            'tweet_mode': 'extended','lang': 'en',\n",
        "            'count': '500'}\n",
        "response=requests.get('https://api.twitter.com/1.1/search/tweets.json',params=params,\n",
        "                        headers={'authorization': 'Bearer '+BEARER_TOKEN})"
      ],
      "execution_count": null,
      "outputs": []
    },
    {
      "cell_type": "code",
      "metadata": {
        "id": "yk3is3rb4pn2"
      },
      "source": [
        "print(response.json())"
      ],
      "execution_count": null,
      "outputs": []
    },
    {
      "cell_type": "code",
      "metadata": {
        "id": "tseVIzHC8zvj"
      },
      "source": [
        "def get_data(tweet):\n",
        "  data = {\n",
        "      'id': tweet['id_str'],\n",
        "      'created_at': tweet['created_at'],\n",
        "      'text': tweet['full_text']\n",
        "  }\n",
        "  return data"
      ],
      "execution_count": null,
      "outputs": []
    },
    {
      "cell_type": "code",
      "metadata": {
        "id": "r6n5Mazx7HZD"
      },
      "source": [
        "df = pd.DataFrame()\n",
        "for tweet in response.json()['statuses']:\n",
        "  row = get_data(tweet)\n",
        "  df = df.append(row, ignore_index=True)"
      ],
      "execution_count": null,
      "outputs": []
    },
    {
      "cell_type": "code",
      "metadata": {
        "id": "frDNuxRFea7A"
      },
      "source": [
        "tweets = df['text']\n",
        "txts = tweets.to_list()"
      ],
      "execution_count": null,
      "outputs": []
    },
    {
      "cell_type": "code",
      "metadata": {
        "id": "LaJzbwaIPsAt"
      },
      "source": [
        "import flair\n",
        "sentiment_model = flair.models.TextClassifier.load('en-sentiment')"
      ],
      "execution_count": null,
      "outputs": []
    },
    {
      "cell_type": "code",
      "metadata": {
        "id": "Ap6XKwKrQGmx"
      },
      "source": [
        "values = []\n",
        "confidence = []\n",
        "for txt in txts:\n",
        "  sentence = flair.data.Sentence(txt)\n",
        "  sentiment_model.predict(sentence)\n",
        "  v = sentence.labels[0].to_dict()['value']\n",
        "  c = sentence.labels[0].to_dict()['confidence']\n",
        "  values.append(v)\n",
        "  confidence.append(c)"
      ],
      "execution_count": null,
      "outputs": []
    },
    {
      "cell_type": "code",
      "metadata": {
        "id": "gxsnPOop6Gs1"
      },
      "source": [
        "df['values'] = values\n",
        "df['confidence'] = confidence"
      ],
      "execution_count": null,
      "outputs": []
    },
    {
      "cell_type": "code",
      "metadata": {
        "colab": {
          "base_uri": "https://localhost:8080/",
          "height": 419
        },
        "id": "oyOc_2UH77Gp",
        "outputId": "d46fce36-42d4-47d8-c0a7-c0e32a0d7345"
      },
      "source": [
        "df"
      ],
      "execution_count": null,
      "outputs": [
        {
          "output_type": "execute_result",
          "data": {
            "text/html": [
              "<div>\n",
              "<style scoped>\n",
              "    .dataframe tbody tr th:only-of-type {\n",
              "        vertical-align: middle;\n",
              "    }\n",
              "\n",
              "    .dataframe tbody tr th {\n",
              "        vertical-align: top;\n",
              "    }\n",
              "\n",
              "    .dataframe thead th {\n",
              "        text-align: right;\n",
              "    }\n",
              "</style>\n",
              "<table border=\"1\" class=\"dataframe\">\n",
              "  <thead>\n",
              "    <tr style=\"text-align: right;\">\n",
              "      <th></th>\n",
              "      <th>created_at</th>\n",
              "      <th>id</th>\n",
              "      <th>text</th>\n",
              "      <th>values</th>\n",
              "      <th>confidence</th>\n",
              "    </tr>\n",
              "  </thead>\n",
              "  <tbody>\n",
              "    <tr>\n",
              "      <th>0</th>\n",
              "      <td>Tue Sep 14 14:29:49 +0000 2021</td>\n",
              "      <td>1437785661327691785</td>\n",
              "      <td>@bg98021 @TroyDavis74 @jpr007 1/\\nLooks \"fishy...</td>\n",
              "      <td>NEGATIVE</td>\n",
              "      <td>0.999997</td>\n",
              "    </tr>\n",
              "    <tr>\n",
              "      <th>1</th>\n",
              "      <td>Tue Sep 14 14:29:48 +0000 2021</td>\n",
              "      <td>1437785660685967362</td>\n",
              "      <td>RT @CryptoRickClub: 🔥 TESLA GIVEAWAY 🔥\\n\\nOur ...</td>\n",
              "      <td>POSITIVE</td>\n",
              "      <td>0.949608</td>\n",
              "    </tr>\n",
              "    <tr>\n",
              "      <th>2</th>\n",
              "      <td>Tue Sep 14 14:29:45 +0000 2021</td>\n",
              "      <td>1437785644307206149</td>\n",
              "      <td>RT @MUSKSWAPCHANNEL: 🔥🔥🔥🔥🔥🔥🔥🔥🔥🔥🔥🔥\\n\\nDO YOU WA...</td>\n",
              "      <td>NEGATIVE</td>\n",
              "      <td>0.985754</td>\n",
              "    </tr>\n",
              "    <tr>\n",
              "      <th>3</th>\n",
              "      <td>Tue Sep 14 14:29:43 +0000 2021</td>\n",
              "      <td>1437785639777353735</td>\n",
              "      <td>Seemingly no one thinks about their windshield...</td>\n",
              "      <td>NEGATIVE</td>\n",
              "      <td>0.998191</td>\n",
              "    </tr>\n",
              "    <tr>\n",
              "      <th>4</th>\n",
              "      <td>Tue Sep 14 14:29:43 +0000 2021</td>\n",
              "      <td>1437785639588671493</td>\n",
              "      <td>RT @KiwiEV: Random dude in a combustion car ha...</td>\n",
              "      <td>NEGATIVE</td>\n",
              "      <td>0.992987</td>\n",
              "    </tr>\n",
              "    <tr>\n",
              "      <th>...</th>\n",
              "      <td>...</td>\n",
              "      <td>...</td>\n",
              "      <td>...</td>\n",
              "      <td>...</td>\n",
              "      <td>...</td>\n",
              "    </tr>\n",
              "    <tr>\n",
              "      <th>95</th>\n",
              "      <td>Tue Sep 14 14:26:53 +0000 2021</td>\n",
              "      <td>1437784923583176715</td>\n",
              "      <td>RT @ElectrekCo: Tesla cofounder JB Straubel an...</td>\n",
              "      <td>POSITIVE</td>\n",
              "      <td>0.897269</td>\n",
              "    </tr>\n",
              "    <tr>\n",
              "      <th>96</th>\n",
              "      <td>Tue Sep 14 14:26:52 +0000 2021</td>\n",
              "      <td>1437784922542985219</td>\n",
              "      <td>@wanda_hudson @Tesla The TAM for @Tesla is eno...</td>\n",
              "      <td>POSITIVE</td>\n",
              "      <td>0.748292</td>\n",
              "    </tr>\n",
              "    <tr>\n",
              "      <th>97</th>\n",
              "      <td>Tue Sep 14 14:26:52 +0000 2021</td>\n",
              "      <td>1437784920034795527</td>\n",
              "      <td>@alex_avoigt Tesla has big problems with deliv...</td>\n",
              "      <td>NEGATIVE</td>\n",
              "      <td>0.977089</td>\n",
              "    </tr>\n",
              "    <tr>\n",
              "      <th>98</th>\n",
              "      <td>Tue Sep 14 14:26:50 +0000 2021</td>\n",
              "      <td>1437784914179547137</td>\n",
              "      <td>RT @Ebag72: @elonmusk Hello Mr Musk. Being tha...</td>\n",
              "      <td>POSITIVE</td>\n",
              "      <td>0.810857</td>\n",
              "    </tr>\n",
              "    <tr>\n",
              "      <th>99</th>\n",
              "      <td>Tue Sep 14 14:26:46 +0000 2021</td>\n",
              "      <td>1437784896848683010</td>\n",
              "      <td>Tesla cofounder JB Straubel announces new 100 ...</td>\n",
              "      <td>POSITIVE</td>\n",
              "      <td>0.803289</td>\n",
              "    </tr>\n",
              "  </tbody>\n",
              "</table>\n",
              "<p>100 rows × 5 columns</p>\n",
              "</div>"
            ],
            "text/plain": [
              "                        created_at                   id  ...    values confidence\n",
              "0   Tue Sep 14 14:29:49 +0000 2021  1437785661327691785  ...  NEGATIVE   0.999997\n",
              "1   Tue Sep 14 14:29:48 +0000 2021  1437785660685967362  ...  POSITIVE   0.949608\n",
              "2   Tue Sep 14 14:29:45 +0000 2021  1437785644307206149  ...  NEGATIVE   0.985754\n",
              "3   Tue Sep 14 14:29:43 +0000 2021  1437785639777353735  ...  NEGATIVE   0.998191\n",
              "4   Tue Sep 14 14:29:43 +0000 2021  1437785639588671493  ...  NEGATIVE   0.992987\n",
              "..                             ...                  ...  ...       ...        ...\n",
              "95  Tue Sep 14 14:26:53 +0000 2021  1437784923583176715  ...  POSITIVE   0.897269\n",
              "96  Tue Sep 14 14:26:52 +0000 2021  1437784922542985219  ...  POSITIVE   0.748292\n",
              "97  Tue Sep 14 14:26:52 +0000 2021  1437784920034795527  ...  NEGATIVE   0.977089\n",
              "98  Tue Sep 14 14:26:50 +0000 2021  1437784914179547137  ...  POSITIVE   0.810857\n",
              "99  Tue Sep 14 14:26:46 +0000 2021  1437784896848683010  ...  POSITIVE   0.803289\n",
              "\n",
              "[100 rows x 5 columns]"
            ]
          },
          "metadata": {},
          "execution_count": 12
        }
      ]
    },
    {
      "cell_type": "code",
      "metadata": {
        "colab": {
          "base_uri": "https://localhost:8080/",
          "height": 142
        },
        "id": "15hPdem4KO3I",
        "outputId": "2a160b28-8443-47c1-9582-378fd1a83c2e"
      },
      "source": [
        "df.groupby(by='values').agg('count')"
      ],
      "execution_count": null,
      "outputs": [
        {
          "output_type": "execute_result",
          "data": {
            "text/html": [
              "<div>\n",
              "<style scoped>\n",
              "    .dataframe tbody tr th:only-of-type {\n",
              "        vertical-align: middle;\n",
              "    }\n",
              "\n",
              "    .dataframe tbody tr th {\n",
              "        vertical-align: top;\n",
              "    }\n",
              "\n",
              "    .dataframe thead th {\n",
              "        text-align: right;\n",
              "    }\n",
              "</style>\n",
              "<table border=\"1\" class=\"dataframe\">\n",
              "  <thead>\n",
              "    <tr style=\"text-align: right;\">\n",
              "      <th></th>\n",
              "      <th>created_at</th>\n",
              "      <th>id</th>\n",
              "      <th>text</th>\n",
              "      <th>confidence</th>\n",
              "    </tr>\n",
              "    <tr>\n",
              "      <th>values</th>\n",
              "      <th></th>\n",
              "      <th></th>\n",
              "      <th></th>\n",
              "      <th></th>\n",
              "    </tr>\n",
              "  </thead>\n",
              "  <tbody>\n",
              "    <tr>\n",
              "      <th>NEGATIVE</th>\n",
              "      <td>42</td>\n",
              "      <td>42</td>\n",
              "      <td>42</td>\n",
              "      <td>42</td>\n",
              "    </tr>\n",
              "    <tr>\n",
              "      <th>POSITIVE</th>\n",
              "      <td>58</td>\n",
              "      <td>58</td>\n",
              "      <td>58</td>\n",
              "      <td>58</td>\n",
              "    </tr>\n",
              "  </tbody>\n",
              "</table>\n",
              "</div>"
            ],
            "text/plain": [
              "          created_at  id  text  confidence\n",
              "values                                    \n",
              "NEGATIVE          42  42    42          42\n",
              "POSITIVE          58  58    58          58"
            ]
          },
          "metadata": {},
          "execution_count": 13
        }
      ]
    },
    {
      "cell_type": "code",
      "metadata": {
        "colab": {
          "base_uri": "https://localhost:8080/",
          "height": 386
        },
        "id": "IIxiTB3NAzlM",
        "outputId": "a8f2cc7a-8edf-4a20-ea15-1752910ad70b"
      },
      "source": [
        "sns.displot(df,x='values', hue='values' )"
      ],
      "execution_count": null,
      "outputs": [
        {
          "output_type": "execute_result",
          "data": {
            "text/plain": [
              "<seaborn.axisgrid.FacetGrid at 0x7f337e1e5e50>"
            ]
          },
          "metadata": {},
          "execution_count": 25
        },
        {
          "output_type": "display_data",
          "data": {
            "image/png": "[encoded data removed]",
            "text/plain": [
              "<Figure size 445.625x360 with 1 Axes>"
            ]
          },
          "metadata": {
            "needs_background": "light"
          }
        }
      ]
    }
  ]
}