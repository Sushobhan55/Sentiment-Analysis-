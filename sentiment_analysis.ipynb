{
  "nbformat": 4,
  "nbformat_minor": 0,
  "metadata": {
    "colab": {
      "name": "sentiment analysis",
      "provenance": []
    },
    "kernelspec": {
      "name": "python3",
      "display_name": "Python 3"
    }
  },
  "cells": [
    {
      "cell_type": "code",
      "metadata": {
        "id": "X5Bg9RexdeH-"
      },
      "source": [
        "\n",
        "pip install flair"
      ],
      "execution_count": null,
      "outputs": []
    },
    {
      "cell_type": "code",
      "metadata": {
        "id": "cHRniGxRil20"
      },
      "source": [
        "from datetime import datetime\n",
        "import requests\n",
        "import pandas as pd\n",
        "import seaborn as sns\n"
      ],
      "execution_count": 128,
      "outputs": []
    },
    {
      "cell_type": "code",
      "metadata": {
        "id": "J5k-ZDIU4VKm"
      },
      "source": [
        "#a token for a log in request with twitter\n",
        "BEARER_TOKEN = 'AAAAAAAAAAAAAAAAAAAAALxdMQEAAAAAQLauISsmwNTTuOUiyjIY9Snq0JE%3DAM4UuquXRQvENnoZ6MCtSuAZws71IOWzApcPa1kWYInJwsQEJP'"
      ],
      "execution_count": 61,
      "outputs": []
    },
    {
      "cell_type": "code",
      "metadata": {
        "id": "03b4MOaFuXkK"
      },
      "source": [
        "#set parameters such as search query, tweet mode and language\n",
        "#web request twitter api for tweets and authorize bearer token\n",
        "params = {'q': 'GME',\n",
        "            'tweet_mode': 'extended','lang': 'en',\n",
        "            'count': 500}\n",
        "response=requests.get('https://api.twitter.com/1.1/search/tweets.json',params=params,\n",
        "                        headers={'authorization': 'Bearer '+BEARER_TOKEN})"
      ],
      "execution_count": 76,
      "outputs": []
    },
    {
      "cell_type": "code",
      "metadata": {
        "id": "yk3is3rb4pn2"
      },
      "source": [
        "response.json()"
      ],
      "execution_count": null,
      "outputs": []
    },
    {
      "cell_type": "code",
      "metadata": {
        "id": "tseVIzHC8zvj"
      },
      "source": [
        "#filter id,tweet and time\n",
        "def get_data(tweet):\n",
        "  data = {\n",
        "      'id': tweet['id_str'],\n",
        "      'created_at': tweet['created_at'],\n",
        "      'text': tweet['full_text']\n",
        "  }\n",
        "  return data"
      ],
      "execution_count": 78,
      "outputs": []
    },
    {
      "cell_type": "code",
      "metadata": {
        "id": "r6n5Mazx7HZD"
      },
      "source": [
        "#apply filter to imported tweets and store in a dataframe\n",
        "df = pd.DataFrame()\n",
        "for tweet in response.json()['statuses']:\n",
        "  row = get_data(tweet)\n",
        "  df = df.append(row, ignore_index=True)"
      ],
      "execution_count": 79,
      "outputs": []
    },
    {
      "cell_type": "code",
      "metadata": {
        "colab": {
          "base_uri": "https://localhost:8080/",
          "height": 204
        },
        "id": "vgNVTCOMhw5P",
        "outputId": "5d54c39e-ac6b-427b-fb0e-e5ab6ba7f818"
      },
      "source": [
        "df.head()"
      ],
      "execution_count": 80,
      "outputs": [
        {
          "output_type": "execute_result",
          "data": {
            "text/html": [
              "<div>\n",
              "<style scoped>\n",
              "    .dataframe tbody tr th:only-of-type {\n",
              "        vertical-align: middle;\n",
              "    }\n",
              "\n",
              "    .dataframe tbody tr th {\n",
              "        vertical-align: top;\n",
              "    }\n",
              "\n",
              "    .dataframe thead th {\n",
              "        text-align: right;\n",
              "    }\n",
              "</style>\n",
              "<table border=\"1\" class=\"dataframe\">\n",
              "  <thead>\n",
              "    <tr style=\"text-align: right;\">\n",
              "      <th></th>\n",
              "      <th>created_at</th>\n",
              "      <th>id</th>\n",
              "      <th>text</th>\n",
              "    </tr>\n",
              "  </thead>\n",
              "  <tbody>\n",
              "    <tr>\n",
              "      <th>0</th>\n",
              "      <td>Fri Sep 17 02:33:09 +0000 2021</td>\n",
              "      <td>1438692469806354432</td>\n",
              "      <td>If they used to work at Citadel and they’ve mo...</td>\n",
              "    </tr>\n",
              "    <tr>\n",
              "      <th>1</th>\n",
              "      <td>Fri Sep 17 02:32:20 +0000 2021</td>\n",
              "      <td>1438692268139966472</td>\n",
              "      <td>RT @amc_squeeze: We are facing a Tsunami soon,...</td>\n",
              "    </tr>\n",
              "    <tr>\n",
              "      <th>2</th>\n",
              "      <td>Fri Sep 17 02:32:15 +0000 2021</td>\n",
              "      <td>1438692246493319169</td>\n",
              "      <td>@Francesco0996 @jpkuz12 What implications does...</td>\n",
              "    </tr>\n",
              "    <tr>\n",
              "      <th>3</th>\n",
              "      <td>Fri Sep 17 02:31:56 +0000 2021</td>\n",
              "      <td>1438692165794910217</td>\n",
              "      <td>RT @masked_investor: IMO you either add, subtr...</td>\n",
              "    </tr>\n",
              "    <tr>\n",
              "      <th>4</th>\n",
              "      <td>Fri Sep 17 02:31:22 +0000 2021</td>\n",
              "      <td>1438692023201148929</td>\n",
              "      <td>RT @NotSoSuperNFT: $420.69 Gamestop Gift Card ...</td>\n",
              "    </tr>\n",
              "  </tbody>\n",
              "</table>\n",
              "</div>"
            ],
            "text/plain": [
              "                       created_at  ...                                               text\n",
              "0  Fri Sep 17 02:33:09 +0000 2021  ...  If they used to work at Citadel and they’ve mo...\n",
              "1  Fri Sep 17 02:32:20 +0000 2021  ...  RT @amc_squeeze: We are facing a Tsunami soon,...\n",
              "2  Fri Sep 17 02:32:15 +0000 2021  ...  @Francesco0996 @jpkuz12 What implications does...\n",
              "3  Fri Sep 17 02:31:56 +0000 2021  ...  RT @masked_investor: IMO you either add, subtr...\n",
              "4  Fri Sep 17 02:31:22 +0000 2021  ...  RT @NotSoSuperNFT: $420.69 Gamestop Gift Card ...\n",
              "\n",
              "[5 rows x 3 columns]"
            ]
          },
          "metadata": {},
          "execution_count": 80
        }
      ]
    },
    {
      "cell_type": "code",
      "metadata": {
        "id": "frDNuxRFea7A"
      },
      "source": [
        "tweets = df['text']\n",
        "txts = tweets.to_list()"
      ],
      "execution_count": 81,
      "outputs": []
    },
    {
      "cell_type": "code",
      "metadata": {
        "id": "LaJzbwaIPsAt"
      },
      "source": [
        "import flair\n",
        "sentiment_model = flair.models.TextClassifier.load('en-sentiment')"
      ],
      "execution_count": null,
      "outputs": []
    },
    {
      "cell_type": "code",
      "metadata": {
        "id": "Ap6XKwKrQGmx"
      },
      "source": [
        "#assigning values and confidence to each texts from tweets with \n",
        "#flair library and its textclassifier models\n",
        "#and store in dictionaries\n",
        "values = []\n",
        "confidence = []\n",
        "for txt in txts:\n",
        "  sentence = flair.data.Sentence(txt)\n",
        "  sentiment_model.predict(sentence)\n",
        "  v = sentence.labels[0].to_dict()['value']\n",
        "  c = sentence.labels[0].to_dict()['confidence']\n",
        "  values.append(v)\n",
        "  confidence.append(c)"
      ],
      "execution_count": 82,
      "outputs": []
    },
    {
      "cell_type": "code",
      "metadata": {
        "id": "gxsnPOop6Gs1"
      },
      "source": [
        "#convert dictioinaries to columns and store in dataframe \n",
        "df['values'] = values\n",
        "df['confidence'] = confidence"
      ],
      "execution_count": 84,
      "outputs": []
    },
    {
      "cell_type": "code",
      "metadata": {
        "id": "oyOc_2UH77Gp",
        "colab": {
          "base_uri": "https://localhost:8080/",
          "height": 204
        },
        "outputId": "f6f3c6ac-1281-4b05-e625-d38d1394bb6d"
      },
      "source": [
        "df.head(5)"
      ],
      "execution_count": 85,
      "outputs": [
        {
          "output_type": "execute_result",
          "data": {
            "text/html": [
              "<div>\n",
              "<style scoped>\n",
              "    .dataframe tbody tr th:only-of-type {\n",
              "        vertical-align: middle;\n",
              "    }\n",
              "\n",
              "    .dataframe tbody tr th {\n",
              "        vertical-align: top;\n",
              "    }\n",
              "\n",
              "    .dataframe thead th {\n",
              "        text-align: right;\n",
              "    }\n",
              "</style>\n",
              "<table border=\"1\" class=\"dataframe\">\n",
              "  <thead>\n",
              "    <tr style=\"text-align: right;\">\n",
              "      <th></th>\n",
              "      <th>created_at</th>\n",
              "      <th>id</th>\n",
              "      <th>text</th>\n",
              "      <th>values</th>\n",
              "      <th>confidence</th>\n",
              "    </tr>\n",
              "  </thead>\n",
              "  <tbody>\n",
              "    <tr>\n",
              "      <th>0</th>\n",
              "      <td>Fri Sep 17 02:33:09 +0000 2021</td>\n",
              "      <td>1438692469806354432</td>\n",
              "      <td>If they used to work at Citadel and they’ve mo...</td>\n",
              "      <td>NEGATIVE</td>\n",
              "      <td>0.982878</td>\n",
              "    </tr>\n",
              "    <tr>\n",
              "      <th>1</th>\n",
              "      <td>Fri Sep 17 02:32:20 +0000 2021</td>\n",
              "      <td>1438692268139966472</td>\n",
              "      <td>RT @amc_squeeze: We are facing a Tsunami soon,...</td>\n",
              "      <td>NEGATIVE</td>\n",
              "      <td>0.949751</td>\n",
              "    </tr>\n",
              "    <tr>\n",
              "      <th>2</th>\n",
              "      <td>Fri Sep 17 02:32:15 +0000 2021</td>\n",
              "      <td>1438692246493319169</td>\n",
              "      <td>@Francesco0996 @jpkuz12 What implications does...</td>\n",
              "      <td>NEGATIVE</td>\n",
              "      <td>0.990071</td>\n",
              "    </tr>\n",
              "    <tr>\n",
              "      <th>3</th>\n",
              "      <td>Fri Sep 17 02:31:56 +0000 2021</td>\n",
              "      <td>1438692165794910217</td>\n",
              "      <td>RT @masked_investor: IMO you either add, subtr...</td>\n",
              "      <td>NEGATIVE</td>\n",
              "      <td>0.831323</td>\n",
              "    </tr>\n",
              "    <tr>\n",
              "      <th>4</th>\n",
              "      <td>Fri Sep 17 02:31:22 +0000 2021</td>\n",
              "      <td>1438692023201148929</td>\n",
              "      <td>RT @NotSoSuperNFT: $420.69 Gamestop Gift Card ...</td>\n",
              "      <td>POSITIVE</td>\n",
              "      <td>0.987992</td>\n",
              "    </tr>\n",
              "  </tbody>\n",
              "</table>\n",
              "</div>"
            ],
            "text/plain": [
              "                       created_at                   id  ...    values confidence\n",
              "0  Fri Sep 17 02:33:09 +0000 2021  1438692469806354432  ...  NEGATIVE   0.982878\n",
              "1  Fri Sep 17 02:32:20 +0000 2021  1438692268139966472  ...  NEGATIVE   0.949751\n",
              "2  Fri Sep 17 02:32:15 +0000 2021  1438692246493319169  ...  NEGATIVE   0.990071\n",
              "3  Fri Sep 17 02:31:56 +0000 2021  1438692165794910217  ...  NEGATIVE   0.831323\n",
              "4  Fri Sep 17 02:31:22 +0000 2021  1438692023201148929  ...  POSITIVE   0.987992\n",
              "\n",
              "[5 rows x 5 columns]"
            ]
          },
          "metadata": {},
          "execution_count": 85
        }
      ]
    },
    {
      "cell_type": "code",
      "metadata": {
        "colab": {
          "base_uri": "https://localhost:8080/"
        },
        "id": "-usLt8bykM_x",
        "outputId": "b2ed955b-c2c2-4f6e-95d1-9491dcb89854"
      },
      "source": [
        "df['values'].count()"
      ],
      "execution_count": 86,
      "outputs": [
        {
          "output_type": "execute_result",
          "data": {
            "text/plain": [
              "100"
            ]
          },
          "metadata": {},
          "execution_count": 86
        }
      ]
    },
    {
      "cell_type": "code",
      "metadata": {
        "colab": {
          "base_uri": "https://localhost:8080/"
        },
        "id": "15hPdem4KO3I",
        "outputId": "478e3b77-6134-4ea3-d075-a3e7d35044be"
      },
      "source": [
        "#categorize into negative and positive \n",
        "df.groupby(by='values')['values'].count()"
      ],
      "execution_count": 91,
      "outputs": [
        {
          "output_type": "execute_result",
          "data": {
            "text/plain": [
              "values\n",
              "NEGATIVE    75\n",
              "POSITIVE    25\n",
              "Name: values, dtype: int64"
            ]
          },
          "metadata": {},
          "execution_count": 91
        }
      ]
    },
    {
      "cell_type": "code",
      "metadata": {
        "colab": {
          "base_uri": "https://localhost:8080/",
          "height": 296
        },
        "id": "8OmVZQPTtGqu",
        "outputId": "669549b0-aafc-4bfb-b891-fe6dafb29320"
      },
      "source": [
        "sns.histplot(df['values'])"
      ],
      "execution_count": 150,
      "outputs": [
        {
          "output_type": "execute_result",
          "data": {
            "text/plain": [
              "<matplotlib.axes._subplots.AxesSubplot at 0x7fe07e636110>"
            ]
          },
          "metadata": {},
          "execution_count": 150
        },
        {
          "output_type": "display_data",
          "data": {
            "image/png": "[encoded data removed]",
            "text/plain": [
              "<Figure size 432x288 with 1 Axes>"
            ]
          },
          "metadata": {
            "needs_background": "light"
          }
        }
      ]
    },
    {
      "cell_type": "code",
      "metadata": {
        "colab": {
          "base_uri": "https://localhost:8080/",
          "height": 296
        },
        "id": "0B3oQ4FVtAu9",
        "outputId": "28c88d60-2dc6-4269-9bbf-af03682b3de1"
      },
      "source": [
        "sns.histplot(df[df['values']=='NEGATIVE']['confidence'], facecolor='red')"
      ],
      "execution_count": 162,
      "outputs": [
        {
          "output_type": "execute_result",
          "data": {
            "text/plain": [
              "<matplotlib.axes._subplots.AxesSubplot at 0x7fe07dd29f50>"
            ]
          },
          "metadata": {},
          "execution_count": 162
        },
        {
          "output_type": "display_data",
          "data": {
            "image/png": "[encoded data removed]",
            "text/plain": [
              "<Figure size 432x288 with 1 Axes>"
            ]
          },
          "metadata": {
            "needs_background": "light"
          }
        }
      ]
    }
  ]
}